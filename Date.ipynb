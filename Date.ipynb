{
 "cells": [
  {
   "cell_type": "markdown",
   "metadata": {},
   "source": [
    "Detect dates in the DD/MM/YYYY format"
   ]
  },
  {
   "cell_type": "code",
   "execution_count": 51,
   "metadata": {},
   "outputs": [
    {
     "name": "stdout",
     "output_type": "stream",
     "text": [
      "31/02/2020\n"
     ]
    }
   ],
   "source": [
    "import re\n",
    "\n",
    "date = '31/02/2020'\n",
    "dateRegex = r'(0[1-9]|1[0-9]|2[0-9]|3[0-1])/(0[1-9]|1[0-2])/([1-2][0-9][0-9][0-9])'\n",
    "\n",
    "if re.search(r'(0[1-9]|1[0-9]|2[0-9]|3[0-1])/(0[1-9]|1[0-2])/([1-2][0-9][0-9][0-9])', date):\n",
    "    dateRegex = re.compile(r'(0[1-9]|1[0-9]|2[0-9]|3[0-1])/(0[1-9]|1[0-2])/([1-2][0-9][0-9][0-9])')\n",
    "    d = dateRegex.search(date)\n",
    "    print(d.group())\n",
    "else:\n",
    "    print('You do not have a date')"
   ]
  },
  {
   "cell_type": "code",
   "execution_count": 131,
   "metadata": {},
   "outputs": [
    {
     "name": "stdout",
     "output_type": "stream",
     "text": [
      "leap year\n"
     ]
    }
   ],
   "source": [
    "'''\n",
    "If a year is evenly divisible by 4 (no remainder)\n",
    "except if it can be exactly divided by 100\n",
    "except if it can be exactly divided by 400\n",
    "'''\n",
    "year1 = '2048'\n",
    "\n",
    "def LeapYear(year):\n",
    "    if (int(year) % 4) == 0:\n",
    "        if (int(year)%100) != 0 or (int(year)%400) == 0:\n",
    "            print('leap year')\n",
    "        else:\n",
    "            print('NOT leap year')\n",
    "    else:\n",
    "        print('NOT leap year')\n",
    "\n",
    "LeapYear(year1)"
   ]
  },
  {
   "cell_type": "code",
   "execution_count": 144,
   "metadata": {},
   "outputs": [
    {
     "name": "stdout",
     "output_type": "stream",
     "text": [
      "29/02/2020\n"
     ]
    }
   ],
   "source": [
    "import re\n",
    "\n",
    "date = '29/02/2020'\n",
    "'''\n",
    "Regex for a date\n",
    "the days range from 01-31, the months range from 01-12,\n",
    "and the years range from 1000 to 2999\n",
    "'''\n",
    "dateR = r'(0[1-9]|1[0-9]|2[0-9]|3[0-1])/(0[1-9]|1[0-2])/([1-2][0-9][0-9][0-9])'\n",
    "\n",
    "if re.search(dateR, date):\n",
    "    dateRegex = re.compile(dateR)\n",
    "    d = dateRegex.search(date)\n",
    "    day = d.group(1)\n",
    "    month = d.group(2)\n",
    "    year = d.group(3)\n",
    "    \n",
    "    #April, June, September, and November have 30 days \n",
    "    month_30 = ['02', '04', '06', '09', '11']\n",
    "    if (month in month_30) and (day == '31'):\n",
    "        print('Februar, April, June, September, and November do not have 31 days')\n",
    "    #Februar\n",
    "    elif (month == '02') and (day == '30'):\n",
    "        print('Februar does not have 30 days')\n",
    "    elif (month == '02') and (day == '29') and (year != '2020'):\n",
    "        print('Februar has 29 days only in leap years')\n",
    "    else:\n",
    "        print(d.group())\n"
   ]
  },
  {
   "cell_type": "code",
   "execution_count": 96,
   "metadata": {},
   "outputs": [
    {
     "name": "stdout",
     "output_type": "stream",
     "text": [
      "leap year\n"
     ]
    }
   ],
   "source": [
    "'''\n",
    "If a year is evenly divisible by 4 (no remainder)\n",
    "except if it can be exactly divided by 100\n",
    "except if it can be exactly divided by 400\n",
    "'''\n",
    "year = '2048'\n",
    "#leap year\n",
    "if (int(year) % 4) == 0:\n",
    "    if (int(year)%100) != 0 or (int(year)%400) == 0:\n",
    "        print('leap year')\n",
    "    else:\n",
    "        print('NOT leap year')\n",
    "else:\n",
    "    print('NOT leap year')"
   ]
  },
  {
   "cell_type": "code",
   "execution_count": null,
   "metadata": {},
   "outputs": [],
   "source": []
  }
 ],
 "metadata": {
  "kernelspec": {
   "display_name": "Python 3",
   "language": "python",
   "name": "python3"
  },
  "language_info": {
   "codemirror_mode": {
    "name": "ipython",
    "version": 3
   },
   "file_extension": ".py",
   "mimetype": "text/x-python",
   "name": "python",
   "nbconvert_exporter": "python",
   "pygments_lexer": "ipython3",
   "version": "3.7.3"
  }
 },
 "nbformat": 4,
 "nbformat_minor": 2
}
