{
 "cells": [
  {
   "cell_type": "markdown",
   "metadata": {},
   "source": [
    "Make sure the password string it is passed is strong\n",
    "* At least eight characters long\n",
    "* At least 1 digit\n",
    "* At least 1 Uppercase \n",
    "* At least 1 Lowercase"
   ]
  },
  {
   "cell_type": "code",
   "execution_count": 72,
   "metadata": {},
   "outputs": [
    {
     "name": "stdout",
     "output_type": "stream",
     "text": [
      "You have a STRONG password\n"
     ]
    }
   ],
   "source": [
    "import re\n",
    "\n",
    "password = '1hH23456'\n",
    "\n",
    "if re.search(r'^(?=.*\\d)(?=.*[a-z])(?=.*[A-Z]).{8,}$', password):\n",
    "    print('You have a STRONG password')\n",
    "else:\n",
    "    print('You do not have a strong password')"
   ]
  },
  {
   "cell_type": "code",
   "execution_count": 58,
   "metadata": {},
   "outputs": [
    {
     "name": "stdout",
     "output_type": "stream",
     "text": [
      "hH8hl588\n"
     ]
    }
   ],
   "source": [
    "Strong = re.compile(r'^(?=.*\\d)(?=.*[a-z])(?=.*[A-Z]).{8,}$')\n",
    "password = Strong.search('hH8hl588')\n",
    "print(password.group())"
   ]
  }
 ],
 "metadata": {
  "kernelspec": {
   "display_name": "Python 3",
   "language": "python",
   "name": "python3"
  },
  "language_info": {
   "codemirror_mode": {
    "name": "ipython",
    "version": 3
   },
   "file_extension": ".py",
   "mimetype": "text/x-python",
   "name": "python",
   "nbconvert_exporter": "python",
   "pygments_lexer": "ipython3",
   "version": "3.7.3"
  }
 },
 "nbformat": 4,
 "nbformat_minor": 2
}
