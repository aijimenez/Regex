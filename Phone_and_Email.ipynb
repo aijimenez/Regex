{
 "cells": [
  {
   "cell_type": "code",
   "execution_count": 69,
   "metadata": {},
   "outputs": [
    {
     "name": "stdout",
     "output_type": "stream",
     "text": [
      "Phone number found: 415-258-7896\n",
      "Phone number found: 258-7896\n",
      "Phone number found: 1-866-275-1411\n",
      "Phone number found with ext: 555-1212 ext. 1212\n",
      "Phone number found with ext: 555-1212 ext 1212\n",
      "Phone number found with ext: 555-1212 x 1212\n",
      "Phone number found: +1-541-754-3010\n"
     ]
    }
   ],
   "source": [
    "#Get the text off the clipboard\n",
    "\n",
    "import pyperclip, re\n",
    "\n",
    "#Clipboard = pyperclip.paste()\n",
    "text = 'Call to order 1-866-275-1411'\n",
    "\n",
    "# Regex phone number\n",
    "NumRegex = re.compile(r'''(\n",
    "                         (\\+?1-)?(\\d{3}-)?\\d{3}-\\d{4}(\\s(ext.?|x)\\s\\d{2,5})?\n",
    "                         )''', re.VERBOSE)\n",
    "mo = NumRegex.search('My phone number is 415-258-7896.')\n",
    "mo1 = NumRegex.search('My phone number 258-7896.')\n",
    "mo2 = NumRegex.search('Call to order 1-866-275-1411.')\n",
    "mo3 = NumRegex.search('Number 555-1212 ext. 1212.')\n",
    "mo4 = NumRegex.search('Number 555-1212 ext 1212.')\n",
    "mo5 = NumRegex.search('Number 555-1212 x 1212.')\n",
    "mo6 = NumRegex.search('International +1-541-754-3010')\n",
    "print('Phone number found:', mo.group())\n",
    "print('Phone number found:', mo1.group())\n",
    "print('Phone number found:', mo2.group())\n",
    "print('Phone number found with ext:', mo3.group())\n",
    "print('Phone number found with ext:', mo4.group())\n",
    "print('Phone number found with ext:', mo5.group())\n",
    "print('Phone number found:', mo6.group())"
   ]
  },
  {
   "cell_type": "code",
   "execution_count": 70,
   "metadata": {},
   "outputs": [
    {
     "name": "stdout",
     "output_type": "stream",
     "text": [
      "Phone number found:  415-258-7896\n",
      "Phone number found: r 258-7896\n",
      "Phone number found: 1-866-275-1411\n",
      "Phone number found with ext: r 555.1212 ext. 1212\n",
      "Phone number found with ext: r 555-1212 ext 1212\n",
      "Phone number found with ext: r 555-1212 x 1212\n",
      "Phone number found: +1-541-754-3010\n",
      "Phone number found: +1 (555) 123-4567\n"
     ]
    }
   ],
   "source": [
    "#Find USA phone numbers\n",
    "\n",
    "NumRegex = re.compile(r'''(\n",
    "                         (\\+?1)?                    #international\n",
    "                         (-|.|\\s)                   #separator\n",
    "                         (\\(?\\d{3}\\)?)?             #area code\n",
    "                         (-|.|\\s)                   #separator               \n",
    "                         \\d{3}                      #first 3 digits\n",
    "                         (-|.|\\s)                   #separator\n",
    "                         \\d{4}                      #last 4 digits\n",
    "                         (\\s(ext.?|x)\\s\\d{2,5})?    #extension\n",
    "                         )''', re.VERBOSE)\n",
    "\n",
    "mo = NumRegex.search('My phone number is 415-258-7896.')\n",
    "mo1 = NumRegex.search('My phone number 258-7896.')\n",
    "mo2 = NumRegex.search('Call to order 1-866-275-1411.')\n",
    "mo3 = NumRegex.search('Number 555.1212 ext. 1212.')\n",
    "mo4 = NumRegex.search('Number 555-1212 ext 1212.')\n",
    "mo5 = NumRegex.search('Number 555-1212 x 1212.')\n",
    "mo6 = NumRegex.search('International +1-541-754-3010')\n",
    "mo7 = NumRegex.search('Without hyppen: +1 (555) 123-4567')\n",
    "print('Phone number found:', mo.group())\n",
    "print('Phone number found:', mo1.group())\n",
    "print('Phone number found:', mo2.group())\n",
    "print('Phone number found with ext:', mo3.group())\n",
    "print('Phone number found with ext:', mo4.group())\n",
    "print('Phone number found with ext:', mo5.group())\n",
    "print('Phone number found:', mo6.group())\n",
    "print('Phone number found:', mo7.group())"
   ]
  },
  {
   "cell_type": "code",
   "execution_count": 205,
   "metadata": {},
   "outputs": [
    {
     "name": "stdout",
     "output_type": "stream",
     "text": [
      "Email: disposable.style.email.with+symbol@example.com\n"
     ]
    }
   ],
   "source": [
    "#Find Emails\n",
    "#problemas solo un caso \n",
    "\n",
    "EmailRegex = re.compile(r'''(\n",
    "                            [a-zA-Z0-9_%&$=!+*.-]+    #Local-part\n",
    "                             @{1}                     # @\n",
    "                             \\w+.                     #domain\n",
    "                             [a-z]+\n",
    "                             )''', re.VERBOSE) \n",
    "mo = EmailRegex.search('For any questions please contact disposable.style.email.with+symbol@example.com.')\n",
    "print('Email:', mo.group())"
   ]
  },
  {
   "cell_type": "code",
   "execution_count": 203,
   "metadata": {},
   "outputs": [
    {
     "name": "stdout",
     "output_type": "stream",
     "text": [
      "Email: disposable.style.email.with+symbol@example.com\n"
     ]
    }
   ],
   "source": [
    "#Find Emails\n",
    "\n",
    "EmailRegex = re.compile(r'''(\n",
    "                            [a-zA-Z0-9_%&$=!+*.-]+     #Local-part\n",
    "                             @                         # @\n",
    "                             [a-zA-Z0-9_%&$=!+*.-]+    #domain\n",
    "                             (\\.[a-zA-Z]+)\n",
    "                             )''', re.VERBOSE) \n",
    "mo = EmailRegex.search('For any questions please contact disposable.style.email.with+symbol@example.com.')\n",
    "print('Email:', mo.group())"
   ]
  },
  {
   "cell_type": "code",
   "execution_count": 190,
   "metadata": {},
   "outputs": [
    {
     "name": "stdout",
     "output_type": "stream",
     "text": [
      "Email: A@b@c\n"
     ]
    }
   ],
   "source": [
    "#Find Emails\n",
    "\n",
    "EmailRegex = re.compile(r'''(\n",
    "                            [a-zA-Z0-9_%&$=!+*.-]+    #Local-part\n",
    "                             @                     # @\n",
    "                             (\\w+).                     #domain\n",
    "                             [a-z]+)''', re.VERBOSE) \n",
    "mo = EmailRegex.search('For any questions please contact A@b@c@example.com.')\n",
    "print('Email:', mo.group())"
   ]
  },
  {
   "cell_type": "code",
   "execution_count": null,
   "metadata": {},
   "outputs": [],
   "source": []
  }
 ],
 "metadata": {
  "kernelspec": {
   "display_name": "Python 3",
   "language": "python",
   "name": "python3"
  },
  "language_info": {
   "codemirror_mode": {
    "name": "ipython",
    "version": 3
   },
   "file_extension": ".py",
   "mimetype": "text/x-python",
   "name": "python",
   "nbconvert_exporter": "python",
   "pygments_lexer": "ipython3",
   "version": "3.7.3"
  }
 },
 "nbformat": 4,
 "nbformat_minor": 2
}
