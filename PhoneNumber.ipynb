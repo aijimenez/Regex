{
 "cells": [
  {
   "cell_type": "markdown",
   "metadata": {},
   "source": [
    "Check if the number writen in the sentence is a phone number"
   ]
  },
  {
   "cell_type": "code",
   "execution_count": 210,
   "metadata": {},
   "outputs": [],
   "source": [
    "text = 'My number 888-213-1238'"
   ]
  },
  {
   "cell_type": "code",
   "execution_count": 211,
   "metadata": {},
   "outputs": [
    {
     "name": "stdout",
     "output_type": "stream",
     "text": [
      "Is 888-213-1238 a phone number?\n"
     ]
    },
    {
     "data": {
      "text/plain": [
       "True"
      ]
     },
     "execution_count": 211,
     "metadata": {},
     "output_type": "execute_result"
    }
   ],
   "source": [
    "def PhoneNumber(sentence):\n",
    "    number = ''\n",
    "    for word in sentence.split():\n",
    "        if not word.isalpha():\n",
    "            number = word\n",
    "            print('Is', number, 'a phone number?')\n",
    "\n",
    "            \n",
    "    if len(number) != 12:\n",
    "        return False\n",
    "    #only numbers\n",
    "    if not number[:3].isdecimal() or not number[4:7].isdecimal() or not number[8:].isdecimal():\n",
    "        return False\n",
    "    #only hyppen\n",
    "    if (number[3] != '-') or (number[7] != '-'):\n",
    "        return False\n",
    "    \n",
    "    return True\n",
    "\n",
    "PhoneNumber(text)\n",
    "\n"
   ]
  },
  {
   "cell_type": "code",
   "execution_count": 212,
   "metadata": {},
   "outputs": [
    {
     "name": "stdout",
     "output_type": "stream",
     "text": [
      "Is 888-213-1238 a phone number?\n"
     ]
    },
    {
     "data": {
      "text/plain": [
       "True"
      ]
     },
     "execution_count": 212,
     "metadata": {},
     "output_type": "execute_result"
    }
   ],
   "source": [
    "def PhoneNumber(sentence):\n",
    "    number = ''\n",
    "    for word in sentence.split():\n",
    "        if not word.isalpha():\n",
    "            number = word\n",
    "            print('Is', number, 'a phone number?')\n",
    "\n",
    "            \n",
    "    if len(number) != 12:\n",
    "        return False\n",
    "    #only numbers\n",
    "    elif not number[:3].isdecimal() or not number[4:7].isdecimal() or not number[8:].isdecimal():\n",
    "        return False\n",
    "    #only hyppen\n",
    "    elif (number[3] != '-') or (number[7] != '-'):\n",
    "        return False\n",
    "    else:\n",
    "        return True\n",
    "        \n",
    "\n",
    "PhoneNumber(text)"
   ]
  },
  {
   "cell_type": "code",
   "execution_count": null,
   "metadata": {},
   "outputs": [],
   "source": []
  }
 ],
 "metadata": {
  "kernelspec": {
   "display_name": "Python 3",
   "language": "python",
   "name": "python3"
  },
  "language_info": {
   "codemirror_mode": {
    "name": "ipython",
    "version": 3
   },
   "file_extension": ".py",
   "mimetype": "text/x-python",
   "name": "python",
   "nbconvert_exporter": "python",
   "pygments_lexer": "ipython3",
   "version": "3.7.3"
  }
 },
 "nbformat": 4,
 "nbformat_minor": 2
}
