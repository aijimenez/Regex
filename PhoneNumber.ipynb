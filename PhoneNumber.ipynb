{
 "cells": [
  {
   "cell_type": "markdown",
   "metadata": {},
   "source": [
    "Check if the number writen in the sentence is a phone number"
   ]
  },
  {
   "cell_type": "code",
   "execution_count": 160,
   "metadata": {},
   "outputs": [],
   "source": [
    "sentence = 'This is my number 512-213-1234'"
   ]
  },
  {
   "cell_type": "code",
   "execution_count": 161,
   "metadata": {},
   "outputs": [
    {
     "name": "stdout",
     "output_type": "stream",
     "text": [
      "Is 512-213-1234 a phone number?\n"
     ]
    },
    {
     "data": {
      "text/plain": [
       "True"
      ]
     },
     "execution_count": 161,
     "metadata": {},
     "output_type": "execute_result"
    }
   ],
   "source": [
    "def PhoneNumber(text):\n",
    "    number = ''\n",
    "    for word in sentence.split():\n",
    "        if not word.isalpha():\n",
    "            number = word\n",
    "            print('Is', number, 'a phone number?')\n",
    "\n",
    "            \n",
    "    if len(number) != 12:\n",
    "        return False\n",
    "    #only numbers\n",
    "    elif not number[:3].isdecimal() or not number[4:7].isdecimal() or not number[8:].isdecimal():\n",
    "        return False\n",
    "    #onli hyppen\n",
    "    elif (number[3] != '-') or (number[7] != '-'):\n",
    "        return False\n",
    "    else:\n",
    "        return True\n",
    "        \n",
    "\n",
    "PhoneNumber(sentence)"
   ]
  }
 ],
 "metadata": {
  "kernelspec": {
   "display_name": "Python 3",
   "language": "python",
   "name": "python3"
  },
  "language_info": {
   "codemirror_mode": {
    "name": "ipython",
    "version": 3
   },
   "file_extension": ".py",
   "mimetype": "text/x-python",
   "name": "python",
   "nbconvert_exporter": "python",
   "pygments_lexer": "ipython3",
   "version": "3.7.3"
  }
 },
 "nbformat": 4,
 "nbformat_minor": 2
}
